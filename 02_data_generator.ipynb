{
  "nbformat": 4,
  "nbformat_minor": 0,
  "metadata": {
    "colab": {
      "name": "02_data_generator.ipynb",
      "provenance": [],
      "collapsed_sections": [],
      "authorship_tag": "ABX9TyOE+5gLl7Si0vm0ocpO6iGy",
      "include_colab_link": true
    },
    "kernelspec": {
      "name": "python3",
      "display_name": "Python 3"
    },
    "language_info": {
      "name": "python"
    }
  },
  "cells": [
    {
      "cell_type": "markdown",
      "metadata": {
        "id": "view-in-github",
        "colab_type": "text"
      },
      "source": [
        "<a href=\"https://colab.research.google.com/github/linbeta/ingredients_recognition_model/blob/main/02_data_generator.ipynb\" target=\"_parent\"><img src=\"https://colab.research.google.com/assets/colab-badge.svg\" alt=\"Open In Colab\"/></a>"
      ]
    },
    {
      "cell_type": "code",
      "execution_count": null,
      "metadata": {
        "colab": {
          "base_uri": "https://localhost:8080/"
        },
        "id": "yfQ9AmF0L6aA",
        "outputId": "bb4c4ffb-2822-40d8-d4f8-211e6488a924"
      },
      "outputs": [
        {
          "output_type": "stream",
          "name": "stdout",
          "text": [
            "Mounted at /content/drive\n"
          ]
        }
      ],
      "source": [
        "from google.colab import drive\n",
        "drive.mount('/content/drive')"
      ]
    },
    {
      "cell_type": "code",
      "source": [
        "# 載入dataset: 方法二\n",
        "# https://drive.google.com/file/d/1AZTnvvY8bl5mKSeTdBLE61sDXRI1yvDY/view?usp=sharing\n",
        "!gdown --id '1AZTnvvY8bl5mKSeTdBLE61sDXRI1yvDY' -O dataset.zip\n",
        "!unzip dataset.zip"
      ],
      "metadata": {
        "id": "qlr52zPbMIbz"
      },
      "execution_count": null,
      "outputs": []
    },
    {
      "cell_type": "code",
      "source": [
        "import tensorflow as tf\n",
        "import cv2\n",
        "import numpy as np\n",
        "from glob import glob\n",
        "from sklearn.model_selection import train_test_split"
      ],
      "metadata": {
        "id": "SrY7LToPMsdx"
      },
      "execution_count": null,
      "outputs": []
    },
    {
      "cell_type": "code",
      "source": [
        "class DataGenerator(tf.keras.utils.Sequence):\n",
        "    def __init__(self, img_paths, batch_size, img_size, shuffle=True, aug=False):\n",
        "        self.img_paths = img_paths\n",
        "        self.batch_size = batch_size\n",
        "        self.img_size = img_size\n",
        "        self.shuffle = shuffle\n",
        "        self.aug = aug\n",
        "\n",
        "        self.indexes = np.arange(len(self.img_paths)) # [0, 1, 2, 3, 4, 5, 6, ~]\n",
        "        self.on_epoch_end()\n",
        "\n",
        "    def __len__(self):\n",
        "        return int(np.ceil(len(self.img_paths) / self.batch_size)) # batches per epoch\n",
        "\n",
        "    def __getitem__(self, batch_index):\n",
        "        # Generate indexes of the batch\n",
        "        idxs = self.indexes[batch_index * self.batch_size: (batch_index + 1) * self.batch_size]\n",
        "        # Find list of IDs\n",
        "        batch_img_paths = [self.img_paths[i] for i in idxs]\n",
        "\n",
        "        # Generates data containing batch_size samples\n",
        "        x = np.empty((len(batch_img_paths), self.img_size, self.img_size, 3), dtype=np.float32)\n",
        "        y = np.empty((len(batch_img_paths), 1), dtype=np.float32)\n",
        "\n",
        "        for i, img_path in enumerate(batch_img_paths):\n",
        "            # read img\n",
        "            img = cv2.imread(img_path)\n",
        "            # img = cv2.resize(img, (self.img_size, self.img_size))\n",
        "            img = img / 255.\n",
        "\n",
        "            if self.aug:\n",
        "                img = img # Augmentation\n",
        "                \n",
        "            # read class label: 讀取訓練資料的資料夾名稱的類別數字\n",
        "            cls = img_path.split('/')[-2].split('_')[0]\n",
        "            # if cls == 'MT_Free':\n",
        "            #     cls = 0\n",
        "            # else:\n",
        "            #     cls = 1\n",
        "                \n",
        "            x[i] = img\n",
        "            y[i] = cls\n",
        "            \n",
        "        return x, y\n",
        "\n",
        "    def on_epoch_end(self):\n",
        "        # Updates indexes after each epoch\n",
        "        if self.shuffle:\n",
        "            np.random.shuffle(self.indexes)"
      ],
      "metadata": {
        "id": "GumW3PrFNS-S"
      },
      "execution_count": null,
      "outputs": []
    },
    {
      "cell_type": "code",
      "source": [
        "# 讀取DataSet資料夾裡面全部的資料夾裡面全部的照片\n",
        "img_paths = glob('./DataSet/*/*.jpg')"
      ],
      "metadata": {
        "id": "XxqodVBOO4Kb"
      },
      "execution_count": null,
      "outputs": []
    },
    {
      "cell_type": "code",
      "source": [
        "len(img_paths)"
      ],
      "metadata": {
        "colab": {
          "base_uri": "https://localhost:8080/"
        },
        "id": "zeWrpi7mPHBm",
        "outputId": "a2398d8c-5eb2-43cd-eb8c-d9238158de0f"
      },
      "execution_count": null,
      "outputs": [
        {
          "output_type": "execute_result",
          "data": {
            "text/plain": [
              "5000"
            ]
          },
          "metadata": {},
          "execution_count": 48
        }
      ]
    },
    {
      "cell_type": "code",
      "source": [
        "# 切出多少比例的訓練/驗證資料\n",
        "train_img_paths, val_img_paths = train_test_split(img_paths, test_size=0.2)\n",
        "len(train_img_paths), len(val_img_paths)"
      ],
      "metadata": {
        "colab": {
          "base_uri": "https://localhost:8080/"
        },
        "id": "O_O1TbxTPkc2",
        "outputId": "00a85a2e-d92c-4a42-f6d7-c2e54ae57186"
      },
      "execution_count": null,
      "outputs": [
        {
          "output_type": "execute_result",
          "data": {
            "text/plain": [
              "(4000, 1000)"
            ]
          },
          "metadata": {},
          "execution_count": 49
        }
      ]
    },
    {
      "cell_type": "code",
      "source": [
        "train_gen = DataGenerator(train_img_paths, 32, 224, shuffle=True, aug=False)\n",
        "val_gen = DataGenerator(val_img_paths, 32, 224, shuffle=False, aug=False)"
      ],
      "metadata": {
        "id": "4VPPgGOcTREM"
      },
      "execution_count": null,
      "outputs": []
    },
    {
      "cell_type": "code",
      "source": [
        "# 所有訓練和驗證資料依照batch_size需要跑幾輪\n",
        "train_gen.indexes\n",
        "len(train_gen), len(val_gen)"
      ],
      "metadata": {
        "colab": {
          "base_uri": "https://localhost:8080/"
        },
        "id": "DCYotx3PTmRw",
        "outputId": "72c9c7e8-d1a0-40cc-a2a4-3879590ba74a"
      },
      "execution_count": null,
      "outputs": [
        {
          "output_type": "execute_result",
          "data": {
            "text/plain": [
              "(125, 32)"
            ]
          },
          "metadata": {},
          "execution_count": 51
        }
      ]
    },
    {
      "cell_type": "code",
      "source": [
        "imgs, labels = train_gen[0]\n",
        "print(len(labels), labels)"
      ],
      "metadata": {
        "colab": {
          "base_uri": "https://localhost:8080/"
        },
        "id": "_CiWvY1EUok_",
        "outputId": "ef84f1f3-4445-4e9f-8f01-b78fc8972734"
      },
      "execution_count": null,
      "outputs": [
        {
          "output_type": "stream",
          "name": "stdout",
          "text": [
            "32 [[ 0.]\n",
            " [ 0.]\n",
            " [ 2.]\n",
            " [55.]\n",
            " [34.]\n",
            " [28.]\n",
            " [25.]\n",
            " [ 0.]\n",
            " [ 2.]\n",
            " [27.]\n",
            " [55.]\n",
            " [26.]\n",
            " [31.]\n",
            " [27.]\n",
            " [ 5.]\n",
            " [25.]\n",
            " [55.]\n",
            " [ 0.]\n",
            " [26.]\n",
            " [55.]\n",
            " [ 5.]\n",
            " [ 5.]\n",
            " [ 0.]\n",
            " [27.]\n",
            " [ 0.]\n",
            " [ 5.]\n",
            " [27.]\n",
            " [25.]\n",
            " [ 5.]\n",
            " [25.]\n",
            " [26.]\n",
            " [27.]]\n"
          ]
        }
      ]
    },
    {
      "cell_type": "code",
      "source": [
        "imgs.shape, labels.shape"
      ],
      "metadata": {
        "colab": {
          "base_uri": "https://localhost:8080/"
        },
        "id": "_UEwcvAAWn1H",
        "outputId": "b2b10b5e-1139-477b-8e1a-0233ca14f70a"
      },
      "execution_count": null,
      "outputs": [
        {
          "output_type": "execute_result",
          "data": {
            "text/plain": [
              "((32, 224, 224, 3), (32, 1))"
            ]
          },
          "metadata": {},
          "execution_count": 46
        }
      ]
    }
  ]
}